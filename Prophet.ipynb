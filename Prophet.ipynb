{
 "cells": [
  {
   "cell_type": "markdown",
   "metadata": {
    "id": "7FaBeGBwYyC2"
   },
   "source": [
    "# **Importing Libraries**"
   ]
  },
  {
   "cell_type": "code",
   "execution_count": 1,
   "metadata": {
    "executionInfo": {
     "elapsed": 1519,
     "status": "ok",
     "timestamp": 1636701586164,
     "user": {
      "displayName": "Argiris Tsaklidis",
      "photoUrl": "https://lh3.googleusercontent.com/a-/AOh14Gjz7TNidjcpzcmmTIkVKNOctegSKYbPz1RrAP1A7Q=s64",
      "userId": "14933309071414098186"
     },
     "user_tz": -120
    },
    "id": "2NySlV4zwTJp"
   },
   "outputs": [
    {
     "ename": "ModuleNotFoundError",
     "evalue": "No module named 'fbprophet'",
     "output_type": "error",
     "traceback": [
      "\u001b[1;31m---------------------------------------------------------------------------\u001b[0m",
      "\u001b[1;31mModuleNotFoundError\u001b[0m                       Traceback (most recent call last)",
      "\u001b[1;32m~\\AppData\\Local\\Temp/ipykernel_716/1992169395.py\u001b[0m in \u001b[0;36m<module>\u001b[1;34m\u001b[0m\n\u001b[0;32m     11\u001b[0m \u001b[1;32mfrom\u001b[0m \u001b[0mmatplotlib\u001b[0m\u001b[1;33m.\u001b[0m\u001b[0mpylab\u001b[0m \u001b[1;32mimport\u001b[0m \u001b[0mrcParams\u001b[0m\u001b[1;33m\u001b[0m\u001b[1;33m\u001b[0m\u001b[0m\n\u001b[0;32m     12\u001b[0m \u001b[1;32mfrom\u001b[0m \u001b[0mmatplotlib\u001b[0m \u001b[1;32mimport\u001b[0m \u001b[0mpyplot\u001b[0m\u001b[1;33m\u001b[0m\u001b[1;33m\u001b[0m\u001b[0m\n\u001b[1;32m---> 13\u001b[1;33m \u001b[1;32mfrom\u001b[0m \u001b[0mfbprophet\u001b[0m \u001b[1;32mimport\u001b[0m \u001b[0mProphet\u001b[0m\u001b[1;33m\u001b[0m\u001b[1;33m\u001b[0m\u001b[0m\n\u001b[0m\u001b[0;32m     14\u001b[0m \u001b[0mrcParams\u001b[0m\u001b[1;33m[\u001b[0m\u001b[1;34m'figure.figsize'\u001b[0m\u001b[1;33m]\u001b[0m \u001b[1;33m=\u001b[0m \u001b[1;36m10\u001b[0m\u001b[1;33m,\u001b[0m \u001b[1;36m6\u001b[0m\u001b[1;33m\u001b[0m\u001b[1;33m\u001b[0m\u001b[0m\n",
      "\u001b[1;31mModuleNotFoundError\u001b[0m: No module named 'fbprophet'"
     ]
    }
   ],
   "source": [
    "import numpy as np\n",
    "import pandas as pd\n",
    "import matplotlib.pylab as plt\n",
    "import pandas_datareader as web\n",
    "import datetime as dt\n",
    "\n",
    "%matplotlib inline\n",
    "from math import sqrt\n",
    "from sklearn.metrics import mean_squared_error\n",
    "from sklearn.metrics import mean_absolute_percentage_error\n",
    "from matplotlib.pylab import rcParams\n",
    "from matplotlib import pyplot\n",
    "from fbprophet import Prophet\n",
    "rcParams['figure.figsize'] = 10, 6 "
   ]
  },
  {
   "cell_type": "markdown",
   "metadata": {
    "id": "F4i9iD7rwzvd"
   },
   "source": [
    "# **Data Collected from https://finance.yahoo.com/**"
   ]
  },
  {
   "cell_type": "code",
   "execution_count": null,
   "metadata": {
    "colab": {
     "base_uri": "https://localhost:8080/",
     "height": 0
    },
    "executionInfo": {
     "elapsed": 612,
     "status": "ok",
     "timestamp": 1636701586763,
     "user": {
      "displayName": "Argiris Tsaklidis",
      "photoUrl": "https://lh3.googleusercontent.com/a-/AOh14Gjz7TNidjcpzcmmTIkVKNOctegSKYbPz1RrAP1A7Q=s64",
      "userId": "14933309071414098186"
     },
     "user_tz": -120
    },
    "id": "7C_TdXeayMQY",
    "outputId": "c66bdd2b-6eaf-4567-c6da-cd19c03ddac7"
   },
   "outputs": [],
   "source": [
    "import yfinance as yf\n",
    "crypto_currency = 'BTC'\n",
    "against_currency = 'EUR'\n",
    "start = dt.datetime(2019,9,18)\n",
    "end = dt.datetime(2021,10,15) #dt.datetime.now()\n",
    "search = crypto_currency +'-'+ against_currency\n",
    "data = yf.download(search, start=start, end=end)\n",
    "data.round(2)"
   ]
  },
  {
   "cell_type": "markdown",
   "metadata": {
    "id": "JLbC3LJn2SlC"
   },
   "source": [
    "# **Cleaning & Transforming Data**"
   ]
  },
  {
   "cell_type": "code",
   "execution_count": null,
   "metadata": {
    "executionInfo": {
     "elapsed": 52,
     "status": "ok",
     "timestamp": 1636701586764,
     "user": {
      "displayName": "Argiris Tsaklidis",
      "photoUrl": "https://lh3.googleusercontent.com/a-/AOh14Gjz7TNidjcpzcmmTIkVKNOctegSKYbPz1RrAP1A7Q=s64",
      "userId": "14933309071414098186"
     },
     "user_tz": -120
    },
    "id": "qKArUZ3Z3YfC"
   },
   "outputs": [],
   "source": [
    "dates_range = pd.date_range(start=start,end=end)\n",
    "dates = dates_range.to_frame()\n",
    "close_values = data[['Close']]\n",
    "prices = dates.join(close_values)\n",
    "prices = prices.reset_index()\n",
    "prices = prices.drop(columns='index')\n",
    "prices = prices.rename(columns={0: 'ds', 'Close': 'y'})\n",
    "prices = prices.interpolate(method=\"backfill\")"
   ]
  },
  {
   "cell_type": "code",
   "execution_count": null,
   "metadata": {
    "colab": {
     "base_uri": "https://localhost:8080/",
     "height": 419
    },
    "executionInfo": {
     "elapsed": 51,
     "status": "ok",
     "timestamp": 1636701586765,
     "user": {
      "displayName": "Argiris Tsaklidis",
      "photoUrl": "https://lh3.googleusercontent.com/a-/AOh14Gjz7TNidjcpzcmmTIkVKNOctegSKYbPz1RrAP1A7Q=s64",
      "userId": "14933309071414098186"
     },
     "user_tz": -120
    },
    "id": "GNR4G1Bd-2e_",
    "outputId": "bdff6b85-e638-48c2-c243-df09e2fd5eb3"
   },
   "outputs": [],
   "source": [
    "prices"
   ]
  },
  {
   "cell_type": "markdown",
   "metadata": {
    "id": "vDF2Ob1kZMIX"
   },
   "source": [
    "# **Plotting Original Data**"
   ]
  },
  {
   "cell_type": "code",
   "execution_count": null,
   "metadata": {
    "colab": {
     "base_uri": "https://localhost:8080/",
     "height": 405
    },
    "executionInfo": {
     "elapsed": 305,
     "status": "ok",
     "timestamp": 1636701587024,
     "user": {
      "displayName": "Argiris Tsaklidis",
      "photoUrl": "https://lh3.googleusercontent.com/a-/AOh14Gjz7TNidjcpzcmmTIkVKNOctegSKYbPz1RrAP1A7Q=s64",
      "userId": "14933309071414098186"
     },
     "user_tz": -120
    },
    "id": "zcBc8_gR2fWn",
    "outputId": "090f1556-07e3-44e6-d07a-903d05deebf1"
   },
   "outputs": [],
   "source": [
    "original_mean = prices['y'].rolling(window=30).mean()\n",
    "\n",
    "close = plt.plot(prices['y'], color='blue', label='Close Values')\n",
    "mean = plt.plot(original_mean, color='red', label='Rolling Mean')\n",
    "plt.grid(True)\n",
    "plt.xlabel(\"Date\")\n",
    "plt.ylabel(f\"Close value of {crypto_currency} in {against_currency}\")\n",
    "plt.legend(loc='best')"
   ]
  },
  {
   "cell_type": "markdown",
   "metadata": {
    "id": "oQHQQ2vnhAy9"
   },
   "source": [
    "# **Predicting with Prophet Model**"
   ]
  },
  {
   "cell_type": "code",
   "execution_count": null,
   "metadata": {
    "colab": {
     "base_uri": "https://localhost:8080/",
     "height": 593
    },
    "executionInfo": {
     "elapsed": 7371,
     "status": "ok",
     "timestamp": 1636701674737,
     "user": {
      "displayName": "Argiris Tsaklidis",
      "photoUrl": "https://lh3.googleusercontent.com/a-/AOh14Gjz7TNidjcpzcmmTIkVKNOctegSKYbPz1RrAP1A7Q=s64",
      "userId": "14933309071414098186"
     },
     "user_tz": -120
    },
    "id": "3yWW226nGSwP",
    "outputId": "53b495d5-b9f5-4646-c453-812de9b5723e"
   },
   "outputs": [],
   "source": [
    "training_percentage = 0.80\n",
    "\n",
    "#divide into train and validation set\n",
    "train = prices[:int(training_percentage*(len(prices)))]\n",
    "valid = prices[int(training_percentage*(len(prices))):]\n",
    "\n",
    "#building the model\n",
    "m = Prophet(interval_width=0.95, daily_seasonality=True, seasonality_mode='multiplicative')\n",
    "model = m.fit(train)\n",
    "\n",
    "future = m.make_future_dataframe(periods=len(valid), freq='D')\n",
    "forecast_all = m.predict(future)\n",
    "forecast = forecast_all[['ds', 'yhat']]\n",
    "forecast = forecast.loc[(forecast['ds'] >= valid.at[len(train),'ds'])]\n",
    "\n",
    "#forecast = pd.DataFrame(forecast,index = valid.index,columns=['Prediction'])\n",
    "\n",
    "#calculate rmse and mape\n",
    "rmse = round(sqrt(mean_squared_error(valid['y'],forecast['yhat'])),2)\n",
    "mape = round(mean_absolute_percentage_error(valid['y'], forecast['yhat']),2)\n",
    "print(f'RMSE = {rmse}')\n",
    "print(f'MAPE = {mape}')\n",
    "\n",
    "#plot the predictions\n",
    "import plotly.graph_objects as go\n",
    "\n",
    "fig = go.Figure()\n",
    "\n",
    "fig.add_trace(go.Scatter(\n",
    "    x=valid['ds'],\n",
    "    y=valid['y'],\n",
    "    name = 'Real Value',\n",
    "    marker=dict(color=\"blue\"),\n",
    "    showlegend=True\n",
    "))\n",
    "\n",
    "fig.add_trace(go.Scatter(\n",
    "    x=forecast['ds'],\n",
    "    y=forecast['yhat'],\n",
    "    name = 'Predicted Value',\n",
    "    marker=dict(color=\"red\"),\n",
    "    showlegend=True\n",
    "))\n",
    "\n",
    "fig.update_layout(\n",
    "    title=crypto_currency+\" price prediction\",\n",
    "    title_x=0.5,\n",
    "    xaxis_title=\"Date\",\n",
    "    yaxis_title=crypto_currency+\" value in \"+against_currency,\n",
    ")\n",
    "\n"
   ]
  },
  {
   "cell_type": "code",
   "execution_count": null,
   "metadata": {
    "colab": {
     "base_uri": "https://localhost:8080/",
     "height": 441
    },
    "executionInfo": {
     "elapsed": 636,
     "status": "ok",
     "timestamp": 1636701675370,
     "user": {
      "displayName": "Argiris Tsaklidis",
      "photoUrl": "https://lh3.googleusercontent.com/a-/AOh14Gjz7TNidjcpzcmmTIkVKNOctegSKYbPz1RrAP1A7Q=s64",
      "userId": "14933309071414098186"
     },
     "user_tz": -120
    },
    "id": "Ehl_t1MPS8wV",
    "outputId": "72500df4-b51b-47a1-a17c-2d121f75dfa9"
   },
   "outputs": [],
   "source": [
    "plot1 = m.plot(forecast_all)"
   ]
  },
  {
   "cell_type": "code",
   "execution_count": null,
   "metadata": {
    "colab": {
     "base_uri": "https://localhost:8080/",
     "height": 657
    },
    "executionInfo": {
     "elapsed": 687,
     "status": "ok",
     "timestamp": 1636701676053,
     "user": {
      "displayName": "Argiris Tsaklidis",
      "photoUrl": "https://lh3.googleusercontent.com/a-/AOh14Gjz7TNidjcpzcmmTIkVKNOctegSKYbPz1RrAP1A7Q=s64",
      "userId": "14933309071414098186"
     },
     "user_tz": -120
    },
    "id": "oeXKz1C8TByu",
    "outputId": "d693d8b0-e966-4e2a-d76c-85dd366cb42f"
   },
   "outputs": [],
   "source": [
    "plot2 = m.plot_components(forecast_all)"
   ]
  }
 ],
 "metadata": {
  "colab": {
   "authorship_tag": "ABX9TyOBugrJVcwnKwkAdz/Zd0Qn",
   "collapsed_sections": [
    "b_RFlqc4YjsW",
    "7FaBeGBwYyC2",
    "F4i9iD7rwzvd",
    "JLbC3LJn2SlC",
    "vDF2Ob1kZMIX",
    "oQHQQ2vnhAy9"
   ],
   "name": "Prophet.ipynb",
   "provenance": []
  },
  "kernelspec": {
   "display_name": "Python 3 (ipykernel)",
   "language": "python",
   "name": "python3"
  },
  "language_info": {
   "codemirror_mode": {
    "name": "ipython",
    "version": 3
   },
   "file_extension": ".py",
   "mimetype": "text/x-python",
   "name": "python",
   "nbconvert_exporter": "python",
   "pygments_lexer": "ipython3",
   "version": "3.9.7"
  }
 },
 "nbformat": 4,
 "nbformat_minor": 1
}
