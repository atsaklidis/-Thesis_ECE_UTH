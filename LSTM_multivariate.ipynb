{
 "cells": [
  {
   "cell_type": "markdown",
   "metadata": {
    "id": "jmXT83gNKtRV"
   },
   "source": [
    "# **Importing libraries**"
   ]
  },
  {
   "cell_type": "code",
   "execution_count": 1,
   "metadata": {
    "executionInfo": {
     "elapsed": 389,
     "status": "ok",
     "timestamp": 1637617396576,
     "user": {
      "displayName": "Argiris Tsaklidis",
      "photoUrl": "https://lh3.googleusercontent.com/a-/AOh14Gjz7TNidjcpzcmmTIkVKNOctegSKYbPz1RrAP1A7Q=s64",
      "userId": "14933309071414098186"
     },
     "user_tz": -120
    },
    "id": "Wj3PsDK-a-ZA"
   },
   "outputs": [],
   "source": [
    "import numpy as np\n",
    "import pandas as pd\n",
    "import matplotlib.pylab as plt\n",
    "import pandas_datareader as web\n",
    "import datetime as dt"
   ]
  },
  {
   "cell_type": "markdown",
   "metadata": {
    "id": "b_RFlqc4YjsW"
   },
   "source": [
    "# **Installing libraries**"
   ]
  },
  {
   "cell_type": "code",
   "execution_count": 2,
   "metadata": {
    "colab": {
     "base_uri": "https://localhost:8080/"
    },
    "executionInfo": {
     "elapsed": 7126,
     "status": "ok",
     "timestamp": 1637617403695,
     "user": {
      "displayName": "Argiris Tsaklidis",
      "photoUrl": "https://lh3.googleusercontent.com/a-/AOh14Gjz7TNidjcpzcmmTIkVKNOctegSKYbPz1RrAP1A7Q=s64",
      "userId": "14933309071414098186"
     },
     "user_tz": -120
    },
    "id": "KDpIe__T1rYb",
    "outputId": "e7aa2415-b0f4-4863-d455-dcd1a7504a7f"
   },
   "outputs": [
    {
     "name": "stdout",
     "output_type": "stream",
     "text": [
      "Collecting yfinance\n",
      "  Downloading yfinance-0.1.67-py2.py3-none-any.whl (25 kB)\n",
      "Collecting lxml>=4.5.1\n",
      "  Downloading lxml-4.6.4-cp37-cp37m-manylinux_2_17_x86_64.manylinux2014_x86_64.manylinux_2_24_x86_64.whl (6.3 MB)\n",
      "\u001b[K     |████████████████████████████████| 6.3 MB 12.3 MB/s \n",
      "\u001b[?25hRequirement already satisfied: numpy>=1.15 in /usr/local/lib/python3.7/dist-packages (from yfinance) (1.19.5)\n",
      "Requirement already satisfied: requests>=2.20 in /usr/local/lib/python3.7/dist-packages (from yfinance) (2.23.0)\n",
      "Requirement already satisfied: pandas>=0.24 in /usr/local/lib/python3.7/dist-packages (from yfinance) (1.1.5)\n",
      "Requirement already satisfied: multitasking>=0.0.7 in /usr/local/lib/python3.7/dist-packages (from yfinance) (0.0.10)\n",
      "Requirement already satisfied: pytz>=2017.2 in /usr/local/lib/python3.7/dist-packages (from pandas>=0.24->yfinance) (2018.9)\n",
      "Requirement already satisfied: python-dateutil>=2.7.3 in /usr/local/lib/python3.7/dist-packages (from pandas>=0.24->yfinance) (2.8.2)\n",
      "Requirement already satisfied: six>=1.5 in /usr/local/lib/python3.7/dist-packages (from python-dateutil>=2.7.3->pandas>=0.24->yfinance) (1.15.0)\n",
      "Requirement already satisfied: certifi>=2017.4.17 in /usr/local/lib/python3.7/dist-packages (from requests>=2.20->yfinance) (2021.10.8)\n",
      "Requirement already satisfied: chardet<4,>=3.0.2 in /usr/local/lib/python3.7/dist-packages (from requests>=2.20->yfinance) (3.0.4)\n",
      "Requirement already satisfied: urllib3!=1.25.0,!=1.25.1,<1.26,>=1.21.1 in /usr/local/lib/python3.7/dist-packages (from requests>=2.20->yfinance) (1.24.3)\n",
      "Requirement already satisfied: idna<3,>=2.5 in /usr/local/lib/python3.7/dist-packages (from requests>=2.20->yfinance) (2.10)\n",
      "Installing collected packages: lxml, yfinance\n",
      "  Attempting uninstall: lxml\n",
      "    Found existing installation: lxml 4.2.6\n",
      "    Uninstalling lxml-4.2.6:\n",
      "      Successfully uninstalled lxml-4.2.6\n",
      "Successfully installed lxml-4.6.4 yfinance-0.1.67\n"
     ]
    }
   ],
   "source": [
    "!pip install yfinance"
   ]
  },
  {
   "cell_type": "markdown",
   "metadata": {
    "id": "F4i9iD7rwzvd"
   },
   "source": [
    "# **Data collected from https://finance.yahoo.com/**"
   ]
  },
  {
   "cell_type": "code",
   "execution_count": 3,
   "metadata": {
    "colab": {
     "base_uri": "https://localhost:8080/",
     "height": 0
    },
    "executionInfo": {
     "elapsed": 450,
     "status": "ok",
     "timestamp": 1637617404139,
     "user": {
      "displayName": "Argiris Tsaklidis",
      "photoUrl": "https://lh3.googleusercontent.com/a-/AOh14Gjz7TNidjcpzcmmTIkVKNOctegSKYbPz1RrAP1A7Q=s64",
      "userId": "14933309071414098186"
     },
     "user_tz": -120
    },
    "id": "7C_TdXeayMQY",
    "outputId": "aef39e95-a35b-4dab-8e3d-de30d38c913c"
   },
   "outputs": [
    {
     "name": "stdout",
     "output_type": "stream",
     "text": [
      "\r",
      "[*********************100%***********************]  1 of 1 completed\n"
     ]
    },
    {
     "data": {
      "text/html": [
       "<div>\n",
       "<style scoped>\n",
       "    .dataframe tbody tr th:only-of-type {\n",
       "        vertical-align: middle;\n",
       "    }\n",
       "\n",
       "    .dataframe tbody tr th {\n",
       "        vertical-align: top;\n",
       "    }\n",
       "\n",
       "    .dataframe thead th {\n",
       "        text-align: right;\n",
       "    }\n",
       "</style>\n",
       "<table border=\"1\" class=\"dataframe\">\n",
       "  <thead>\n",
       "    <tr style=\"text-align: right;\">\n",
       "      <th></th>\n",
       "      <th>Open</th>\n",
       "      <th>High</th>\n",
       "      <th>Low</th>\n",
       "      <th>Close</th>\n",
       "      <th>Adj Close</th>\n",
       "      <th>Volume</th>\n",
       "    </tr>\n",
       "    <tr>\n",
       "      <th>Date</th>\n",
       "      <th></th>\n",
       "      <th></th>\n",
       "      <th></th>\n",
       "      <th></th>\n",
       "      <th></th>\n",
       "      <th></th>\n",
       "    </tr>\n",
       "  </thead>\n",
       "  <tbody>\n",
       "    <tr>\n",
       "      <th>2019-09-18</th>\n",
       "      <td>9253.40</td>\n",
       "      <td>9316.92</td>\n",
       "      <td>9240.34</td>\n",
       "      <td>9246.49</td>\n",
       "      <td>9246.49</td>\n",
       "      <td>14660255693</td>\n",
       "    </tr>\n",
       "    <tr>\n",
       "      <th>2019-09-19</th>\n",
       "      <td>9248.52</td>\n",
       "      <td>9319.45</td>\n",
       "      <td>8917.57</td>\n",
       "      <td>9292.97</td>\n",
       "      <td>9292.97</td>\n",
       "      <td>18047239238</td>\n",
       "    </tr>\n",
       "    <tr>\n",
       "      <th>2019-09-20</th>\n",
       "      <td>9292.89</td>\n",
       "      <td>9334.07</td>\n",
       "      <td>9194.60</td>\n",
       "      <td>9239.48</td>\n",
       "      <td>9239.48</td>\n",
       "      <td>13370761401</td>\n",
       "    </tr>\n",
       "    <tr>\n",
       "      <th>2019-09-21</th>\n",
       "      <td>9241.30</td>\n",
       "      <td>9245.34</td>\n",
       "      <td>9075.29</td>\n",
       "      <td>9092.54</td>\n",
       "      <td>9092.54</td>\n",
       "      <td>12182959742</td>\n",
       "    </tr>\n",
       "    <tr>\n",
       "      <th>2019-09-22</th>\n",
       "      <td>9096.53</td>\n",
       "      <td>9142.63</td>\n",
       "      <td>9004.77</td>\n",
       "      <td>9138.95</td>\n",
       "      <td>9138.95</td>\n",
       "      <td>11978776314</td>\n",
       "    </tr>\n",
       "    <tr>\n",
       "      <th>...</th>\n",
       "      <td>...</td>\n",
       "      <td>...</td>\n",
       "      <td>...</td>\n",
       "      <td>...</td>\n",
       "      <td>...</td>\n",
       "      <td>...</td>\n",
       "    </tr>\n",
       "    <tr>\n",
       "      <th>2021-11-04</th>\n",
       "      <td>54190.31</td>\n",
       "      <td>54351.23</td>\n",
       "      <td>52647.95</td>\n",
       "      <td>53180.64</td>\n",
       "      <td>53180.64</td>\n",
       "      <td>28225688676</td>\n",
       "    </tr>\n",
       "    <tr>\n",
       "      <th>2021-11-05</th>\n",
       "      <td>53187.43</td>\n",
       "      <td>54139.52</td>\n",
       "      <td>52592.56</td>\n",
       "      <td>52915.76</td>\n",
       "      <td>52915.76</td>\n",
       "      <td>26494469926</td>\n",
       "    </tr>\n",
       "    <tr>\n",
       "      <th>2021-11-06</th>\n",
       "      <td>52866.59</td>\n",
       "      <td>53318.32</td>\n",
       "      <td>52083.06</td>\n",
       "      <td>53263.60</td>\n",
       "      <td>53263.60</td>\n",
       "      <td>25187135416</td>\n",
       "    </tr>\n",
       "    <tr>\n",
       "      <th>2021-11-07</th>\n",
       "      <td>53287.36</td>\n",
       "      <td>54741.94</td>\n",
       "      <td>53181.37</td>\n",
       "      <td>54741.94</td>\n",
       "      <td>54741.94</td>\n",
       "      <td>21374622401</td>\n",
       "    </tr>\n",
       "    <tr>\n",
       "      <th>2021-11-08</th>\n",
       "      <td>54756.70</td>\n",
       "      <td>58408.39</td>\n",
       "      <td>54756.70</td>\n",
       "      <td>58305.04</td>\n",
       "      <td>58305.04</td>\n",
       "      <td>35488274443</td>\n",
       "    </tr>\n",
       "  </tbody>\n",
       "</table>\n",
       "<p>779 rows × 6 columns</p>\n",
       "</div>"
      ],
      "text/plain": [
       "                Open      High       Low     Close  Adj Close       Volume\n",
       "Date                                                                      \n",
       "2019-09-18   9253.40   9316.92   9240.34   9246.49    9246.49  14660255693\n",
       "2019-09-19   9248.52   9319.45   8917.57   9292.97    9292.97  18047239238\n",
       "2019-09-20   9292.89   9334.07   9194.60   9239.48    9239.48  13370761401\n",
       "2019-09-21   9241.30   9245.34   9075.29   9092.54    9092.54  12182959742\n",
       "2019-09-22   9096.53   9142.63   9004.77   9138.95    9138.95  11978776314\n",
       "...              ...       ...       ...       ...        ...          ...\n",
       "2021-11-04  54190.31  54351.23  52647.95  53180.64   53180.64  28225688676\n",
       "2021-11-05  53187.43  54139.52  52592.56  52915.76   52915.76  26494469926\n",
       "2021-11-06  52866.59  53318.32  52083.06  53263.60   53263.60  25187135416\n",
       "2021-11-07  53287.36  54741.94  53181.37  54741.94   54741.94  21374622401\n",
       "2021-11-08  54756.70  58408.39  54756.70  58305.04   58305.04  35488274443\n",
       "\n",
       "[779 rows x 6 columns]"
      ]
     },
     "execution_count": 3,
     "metadata": {},
     "output_type": "execute_result"
    }
   ],
   "source": [
    "import yfinance as yf\n",
    "crypto_currency = 'BTC'\n",
    "against_currency = 'EUR'\n",
    "start =  dt.datetime(2019,9,18) \n",
    "#start = dt.datetime(2020,4,10)\n",
    "end = dt.datetime(2021,11,8) #dt.datetime.now()\n",
    "search = crypto_currency +'-'+ against_currency\n",
    "data = yf.download(search, start=start, end=end)\n",
    "data.round(2)"
   ]
  },
  {
   "cell_type": "markdown",
   "metadata": {
    "id": "ZKPGq23zOqLh"
   },
   "source": [
    "# **Cleaning data - filling NaNs and clearing duplicates**"
   ]
  },
  {
   "cell_type": "code",
   "execution_count": 4,
   "metadata": {
    "colab": {
     "base_uri": "https://localhost:8080/",
     "height": 0
    },
    "executionInfo": {
     "elapsed": 26,
     "status": "ok",
     "timestamp": 1637617404141,
     "user": {
      "displayName": "Argiris Tsaklidis",
      "photoUrl": "https://lh3.googleusercontent.com/a-/AOh14Gjz7TNidjcpzcmmTIkVKNOctegSKYbPz1RrAP1A7Q=s64",
      "userId": "14933309071414098186"
     },
     "user_tz": -120
    },
    "id": "hDHBi9lLYvfW",
    "outputId": "6545feaf-f63c-4a2c-ff49-79ee15dc4675"
   },
   "outputs": [
    {
     "data": {
      "text/html": [
       "<div>\n",
       "<style scoped>\n",
       "    .dataframe tbody tr th:only-of-type {\n",
       "        vertical-align: middle;\n",
       "    }\n",
       "\n",
       "    .dataframe tbody tr th {\n",
       "        vertical-align: top;\n",
       "    }\n",
       "\n",
       "    .dataframe thead th {\n",
       "        text-align: right;\n",
       "    }\n",
       "</style>\n",
       "<table border=\"1\" class=\"dataframe\">\n",
       "  <thead>\n",
       "    <tr style=\"text-align: right;\">\n",
       "      <th></th>\n",
       "      <th>Open</th>\n",
       "      <th>High</th>\n",
       "      <th>Low</th>\n",
       "      <th>Close</th>\n",
       "      <th>Volume</th>\n",
       "    </tr>\n",
       "    <tr>\n",
       "      <th>Date</th>\n",
       "      <th></th>\n",
       "      <th></th>\n",
       "      <th></th>\n",
       "      <th></th>\n",
       "      <th></th>\n",
       "    </tr>\n",
       "  </thead>\n",
       "  <tbody>\n",
       "  </tbody>\n",
       "</table>\n",
       "</div>"
      ],
      "text/plain": [
       "Empty DataFrame\n",
       "Columns: [Open, High, Low, Close, Volume]\n",
       "Index: []"
      ]
     },
     "execution_count": 4,
     "metadata": {},
     "output_type": "execute_result"
    }
   ],
   "source": [
    "dates_range = pd.date_range(start=start,end=end)\n",
    "dates = dates_range.to_frame()\n",
    "dates.index.name = 'Date'\n",
    "dates.index = pd.to_datetime(dates.index, errors='coerce', format='%Y-%m-%d')\n",
    "\n",
    "prices = data[['Open','High','Low','Close','Volume']]\n",
    "prices = dates.join(prices)\n",
    "prices = data[['Open','High','Low','Close','Volume']]\n",
    "prices = prices[~prices.index.duplicated(keep='first')]\n",
    "prices = prices.interpolate()\n",
    "prices[prices['Close'].isnull()]"
   ]
  },
  {
   "cell_type": "code",
   "execution_count": 5,
   "metadata": {
    "colab": {
     "base_uri": "https://localhost:8080/",
     "height": 0
    },
    "executionInfo": {
     "elapsed": 23,
     "status": "ok",
     "timestamp": 1637617404142,
     "user": {
      "displayName": "Argiris Tsaklidis",
      "photoUrl": "https://lh3.googleusercontent.com/a-/AOh14Gjz7TNidjcpzcmmTIkVKNOctegSKYbPz1RrAP1A7Q=s64",
      "userId": "14933309071414098186"
     },
     "user_tz": -120
    },
    "id": "HXAArJEd-Pxh",
    "outputId": "681bf713-b600-4c72-cdda-9c439bba0cd9"
   },
   "outputs": [
    {
     "data": {
      "text/html": [
       "<div>\n",
       "<style scoped>\n",
       "    .dataframe tbody tr th:only-of-type {\n",
       "        vertical-align: middle;\n",
       "    }\n",
       "\n",
       "    .dataframe tbody tr th {\n",
       "        vertical-align: top;\n",
       "    }\n",
       "\n",
       "    .dataframe thead th {\n",
       "        text-align: right;\n",
       "    }\n",
       "</style>\n",
       "<table border=\"1\" class=\"dataframe\">\n",
       "  <thead>\n",
       "    <tr style=\"text-align: right;\">\n",
       "      <th></th>\n",
       "      <th>Open</th>\n",
       "      <th>High</th>\n",
       "      <th>Low</th>\n",
       "      <th>Close</th>\n",
       "      <th>Volume</th>\n",
       "    </tr>\n",
       "    <tr>\n",
       "      <th>Date</th>\n",
       "      <th></th>\n",
       "      <th></th>\n",
       "      <th></th>\n",
       "      <th></th>\n",
       "      <th></th>\n",
       "    </tr>\n",
       "  </thead>\n",
       "  <tbody>\n",
       "    <tr>\n",
       "      <th>2019-09-18</th>\n",
       "      <td>9253.401367</td>\n",
       "      <td>9316.917969</td>\n",
       "      <td>9240.340820</td>\n",
       "      <td>9246.486328</td>\n",
       "      <td>14660255693</td>\n",
       "    </tr>\n",
       "    <tr>\n",
       "      <th>2019-09-19</th>\n",
       "      <td>9248.524414</td>\n",
       "      <td>9319.454102</td>\n",
       "      <td>8917.574219</td>\n",
       "      <td>9292.973633</td>\n",
       "      <td>18047239238</td>\n",
       "    </tr>\n",
       "    <tr>\n",
       "      <th>2019-09-20</th>\n",
       "      <td>9292.886719</td>\n",
       "      <td>9334.069336</td>\n",
       "      <td>9194.604492</td>\n",
       "      <td>9239.483398</td>\n",
       "      <td>13370761401</td>\n",
       "    </tr>\n",
       "    <tr>\n",
       "      <th>2019-09-21</th>\n",
       "      <td>9241.304688</td>\n",
       "      <td>9245.341797</td>\n",
       "      <td>9075.292969</td>\n",
       "      <td>9092.541992</td>\n",
       "      <td>12182959742</td>\n",
       "    </tr>\n",
       "    <tr>\n",
       "      <th>2019-09-22</th>\n",
       "      <td>9096.534180</td>\n",
       "      <td>9142.628906</td>\n",
       "      <td>9004.768555</td>\n",
       "      <td>9138.951172</td>\n",
       "      <td>11978776314</td>\n",
       "    </tr>\n",
       "    <tr>\n",
       "      <th>...</th>\n",
       "      <td>...</td>\n",
       "      <td>...</td>\n",
       "      <td>...</td>\n",
       "      <td>...</td>\n",
       "      <td>...</td>\n",
       "    </tr>\n",
       "    <tr>\n",
       "      <th>2021-11-04</th>\n",
       "      <td>54190.312500</td>\n",
       "      <td>54351.234375</td>\n",
       "      <td>52647.949219</td>\n",
       "      <td>53180.636719</td>\n",
       "      <td>28225688676</td>\n",
       "    </tr>\n",
       "    <tr>\n",
       "      <th>2021-11-05</th>\n",
       "      <td>53187.429688</td>\n",
       "      <td>54139.523438</td>\n",
       "      <td>52592.558594</td>\n",
       "      <td>52915.761719</td>\n",
       "      <td>26494469926</td>\n",
       "    </tr>\n",
       "    <tr>\n",
       "      <th>2021-11-06</th>\n",
       "      <td>52866.589844</td>\n",
       "      <td>53318.316406</td>\n",
       "      <td>52083.062500</td>\n",
       "      <td>53263.601562</td>\n",
       "      <td>25187135416</td>\n",
       "    </tr>\n",
       "    <tr>\n",
       "      <th>2021-11-07</th>\n",
       "      <td>53287.355469</td>\n",
       "      <td>54741.937500</td>\n",
       "      <td>53181.367188</td>\n",
       "      <td>54741.937500</td>\n",
       "      <td>21374622401</td>\n",
       "    </tr>\n",
       "    <tr>\n",
       "      <th>2021-11-08</th>\n",
       "      <td>54756.703125</td>\n",
       "      <td>58408.390625</td>\n",
       "      <td>54756.703125</td>\n",
       "      <td>58305.039062</td>\n",
       "      <td>35488274443</td>\n",
       "    </tr>\n",
       "  </tbody>\n",
       "</table>\n",
       "<p>779 rows × 5 columns</p>\n",
       "</div>"
      ],
      "text/plain": [
       "                    Open          High           Low         Close       Volume\n",
       "Date                                                                           \n",
       "2019-09-18   9253.401367   9316.917969   9240.340820   9246.486328  14660255693\n",
       "2019-09-19   9248.524414   9319.454102   8917.574219   9292.973633  18047239238\n",
       "2019-09-20   9292.886719   9334.069336   9194.604492   9239.483398  13370761401\n",
       "2019-09-21   9241.304688   9245.341797   9075.292969   9092.541992  12182959742\n",
       "2019-09-22   9096.534180   9142.628906   9004.768555   9138.951172  11978776314\n",
       "...                  ...           ...           ...           ...          ...\n",
       "2021-11-04  54190.312500  54351.234375  52647.949219  53180.636719  28225688676\n",
       "2021-11-05  53187.429688  54139.523438  52592.558594  52915.761719  26494469926\n",
       "2021-11-06  52866.589844  53318.316406  52083.062500  53263.601562  25187135416\n",
       "2021-11-07  53287.355469  54741.937500  53181.367188  54741.937500  21374622401\n",
       "2021-11-08  54756.703125  58408.390625  54756.703125  58305.039062  35488274443\n",
       "\n",
       "[779 rows x 5 columns]"
      ]
     },
     "execution_count": 5,
     "metadata": {},
     "output_type": "execute_result"
    }
   ],
   "source": [
    "prices"
   ]
  },
  {
   "cell_type": "markdown",
   "metadata": {
    "id": "3kZW0-IUG34l"
   },
   "source": [
    "## Simplify volume data"
   ]
  },
  {
   "cell_type": "code",
   "execution_count": 6,
   "metadata": {
    "colab": {
     "base_uri": "https://localhost:8080/"
    },
    "executionInfo": {
     "elapsed": 21,
     "status": "ok",
     "timestamp": 1637617404143,
     "user": {
      "displayName": "Argiris Tsaklidis",
      "photoUrl": "https://lh3.googleusercontent.com/a-/AOh14Gjz7TNidjcpzcmmTIkVKNOctegSKYbPz1RrAP1A7Q=s64",
      "userId": "14933309071414098186"
     },
     "user_tz": -120
    },
    "id": "Mv61n6EbISA2",
    "outputId": "090b4513-e176-4e3e-cd6b-8c7c43caa9bc"
   },
   "outputs": [
    {
     "data": {
      "text/plain": [
       "Date\n",
       "2019-09-18    1466.03\n",
       "2019-09-19    1804.72\n",
       "2019-09-20    1337.08\n",
       "2019-09-21    1218.30\n",
       "2019-09-22    1197.88\n",
       "               ...   \n",
       "2021-11-04    2822.57\n",
       "2021-11-05    2649.45\n",
       "2021-11-06    2518.71\n",
       "2021-11-07    2137.46\n",
       "2021-11-08    3548.83\n",
       "Name: Volume, Length: 779, dtype: float64"
      ]
     },
     "execution_count": 6,
     "metadata": {},
     "output_type": "execute_result"
    }
   ],
   "source": [
    "def mod_size(i):\n",
    "    return len(\"%i\" % i)\n",
    "\n",
    "min_digits_of_vol = 4\n",
    "\n",
    "vol_min = prices['Volume'].min(axis=0)\n",
    "vol_max = prices['Volume'].max(axis=0)\n",
    "\n",
    "vol_min_len = mod_size(vol_min)\n",
    "vol_max_len = mod_size(vol_max)\n",
    "\n",
    "prices['Volume'] = round((prices['Volume']/(10**(vol_min_len-min_digits_of_vol))),2)\n",
    "prices['Volume']"
   ]
  },
  {
   "cell_type": "markdown",
   "metadata": {
    "id": "V2zGgMWHLyCo"
   },
   "source": [
    "# **Plotting data**"
   ]
  },
  {
   "cell_type": "code",
   "execution_count": 7,
   "metadata": {
    "colab": {
     "base_uri": "https://localhost:8080/",
     "height": 0
    },
    "executionInfo": {
     "elapsed": 592,
     "status": "ok",
     "timestamp": 1637617404716,
     "user": {
      "displayName": "Argiris Tsaklidis",
      "photoUrl": "https://lh3.googleusercontent.com/a-/AOh14Gjz7TNidjcpzcmmTIkVKNOctegSKYbPz1RrAP1A7Q=s64",
      "userId": "14933309071414098186"
     },
     "user_tz": -120
    },
    "id": "IMdvcN23L5dO",
    "outputId": "f55f866b-1c5e-4513-b1a0-34d61e20b826"
   },
   "outputs": [
    {
     "data": {
      "text/plain": [
       "<matplotlib.axes._subplots.AxesSubplot at 0x7fc9a18d4490>"
      ]
     },
     "execution_count": 7,
     "metadata": {},
     "output_type": "execute_result"
    },
    {
     "data": {
      "image/png": "[encoded data removed]",
      "text/plain": [
       "<Figure size 864x432 with 1 Axes>"
      ]
     },
     "metadata": {
      "needs_background": "light"
     },
     "output_type": "display_data"
    }
   ],
   "source": [
    "prices.plot(figsize=(12,6))"
   ]
  },
  {
   "cell_type": "markdown",
   "metadata": {
    "id": "kn7yZ2DH0yXb"
   },
   "source": [
    "# **Splitting data (training and test set) and scaling data**"
   ]
  },
  {
   "cell_type": "code",
   "execution_count": 8,
   "metadata": {
    "executionInfo": {
     "elapsed": 323,
     "status": "ok",
     "timestamp": 1637617405034,
     "user": {
      "displayName": "Argiris Tsaklidis",
      "photoUrl": "https://lh3.googleusercontent.com/a-/AOh14Gjz7TNidjcpzcmmTIkVKNOctegSKYbPz1RrAP1A7Q=s64",
      "userId": "14933309071414098186"
     },
     "user_tz": -120
    },
    "id": "83z3219S0-UA"
   },
   "outputs": [],
   "source": [
    "training_percentage = 0.8\n",
    "\n",
    "#Splitting Price Data\n",
    "X = prices\n",
    "training_size = int(len(X) * training_percentage)\n",
    "train = X[0:training_size]\n",
    "test = X[training_size:len(X)]\n",
    "\n",
    "#Scaling Price Data\n",
    "from sklearn.preprocessing import MinMaxScaler\n",
    "scaler = MinMaxScaler()\n",
    "scaler.fit(train)\n",
    "scaled_train = scaler.transform(train)\n",
    "scaled_test = scaler.transform(test)"
   ]
  },
  {
   "cell_type": "markdown",
   "metadata": {
    "id": "ZmepEkMuvqhz"
   },
   "source": [
    "# **Creating data structure for training and reshaping**"
   ]
  },
  {
   "cell_type": "code",
   "execution_count": 9,
   "metadata": {
    "executionInfo": {
     "elapsed": 4,
     "status": "ok",
     "timestamp": 1637617405034,
     "user": {
      "displayName": "Argiris Tsaklidis",
      "photoUrl": "https://lh3.googleusercontent.com/a-/AOh14Gjz7TNidjcpzcmmTIkVKNOctegSKYbPz1RrAP1A7Q=s64",
      "userId": "14933309071414098186"
     },
     "user_tz": -120
    },
    "id": "2v4iYi03vuhS"
   },
   "outputs": [],
   "source": [
    "#Training data structure\n",
    "X_train = []\n",
    "y_train = []\n",
    "timesteps = 21\n",
    "\n",
    "for i in range(timesteps, len(train)):\n",
    "  X_train.append(scaled_train[i-timesteps:i, 0:scaled_train.shape[1]])\n",
    "  y_train.append(scaled_train[i:i+1, 0])\n",
    "  \n",
    "X_train,y_train = np.array(X_train), np.array(y_train)\n",
    "\n",
    "#Reshaping\n",
    "X_train = np.reshape(X_train, (X_train.shape[0], X_train.shape[1], X_train.shape[2]))  #(batch_size->number of observations, timesteps, input_dimensions)"
   ]
  },
  {
   "cell_type": "markdown",
   "metadata": {
    "id": "1vRklPwS7jxp"
   },
   "source": [
    "# **Building the RNN (LSTM)**"
   ]
  },
  {
   "cell_type": "code",
   "execution_count": 10,
   "metadata": {
    "colab": {
     "base_uri": "https://localhost:8080/"
    },
    "executionInfo": {
     "elapsed": 23094,
     "status": "ok",
     "timestamp": 1637617428126,
     "user": {
      "displayName": "Argiris Tsaklidis",
      "photoUrl": "https://lh3.googleusercontent.com/a-/AOh14Gjz7TNidjcpzcmmTIkVKNOctegSKYbPz1RrAP1A7Q=s64",
      "userId": "14933309071414098186"
     },
     "user_tz": -120
    },
    "id": "zVhdoLsQ5Aap",
    "outputId": "2dedbef2-64c0-433e-d28e-c1e1a092e2f7"
   },
   "outputs": [
    {
     "name": "stdout",
     "output_type": "stream",
     "text": [
      "Epoch 1/75\n",
      "19/19 [==============================] - 3s 12ms/step - loss: 0.0059\n",
      "Epoch 2/75\n",
      "19/19 [==============================] - 0s 12ms/step - loss: 0.0034\n",
      "Epoch 3/75\n",
      "19/19 [==============================] - 0s 12ms/step - loss: 0.0032\n",
      "Epoch 4/75\n",
      "19/19 [==============================] - 0s 13ms/step - loss: 0.0027\n",
      "Epoch 5/75\n",
      "19/19 [==============================] - 0s 11ms/step - loss: 0.0022\n",
      "Epoch 6/75\n",
      "19/19 [==============================] - 0s 11ms/step - loss: 0.0022\n",
      "Epoch 7/75\n",
      "19/19 [==============================] - 0s 12ms/step - loss: 0.0024\n",
      "Epoch 8/75\n",
      "19/19 [==============================] - 0s 12ms/step - loss: 0.0019\n",
      "Epoch 9/75\n",
      "19/19 [==============================] - 0s 12ms/step - loss: 0.0015\n",
      "Epoch 10/75\n",
      "19/19 [==============================] - 0s 12ms/step - loss: 0.0015\n",
      "Epoch 11/75\n",
      "19/19 [==============================] - 0s 12ms/step - loss: 0.0017\n",
      "Epoch 12/75\n",
      "19/19 [==============================] - 0s 14ms/step - loss: 0.0017\n",
      "Epoch 13/75\n",
      "19/19 [==============================] - 0s 14ms/step - loss: 0.0017\n",
      "Epoch 14/75\n",
      "19/19 [==============================] - 0s 11ms/step - loss: 0.0013\n",
      "Epoch 15/75\n",
      "19/19 [==============================] - 0s 11ms/step - loss: 0.0018\n",
      "Epoch 16/75\n",
      "19/19 [==============================] - 0s 11ms/step - loss: 0.0016\n",
      "Epoch 17/75\n",
      "19/19 [==============================] - 0s 12ms/step - loss: 0.0016\n",
      "Epoch 18/75\n",
      "19/19 [==============================] - 0s 12ms/step - loss: 0.0015\n",
      "Epoch 19/75\n",
      "19/19 [==============================] - 0s 11ms/step - loss: 0.0014\n",
      "Epoch 20/75\n",
      "19/19 [==============================] - 0s 12ms/step - loss: 0.0014\n",
      "Epoch 21/75\n",
      "19/19 [==============================] - 0s 12ms/step - loss: 0.0014\n",
      "Epoch 22/75\n",
      "19/19 [==============================] - 0s 11ms/step - loss: 0.0012\n",
      "Epoch 23/75\n",
      "19/19 [==============================] - 0s 12ms/step - loss: 9.2162e-04\n",
      "Epoch 24/75\n",
      "19/19 [==============================] - 0s 13ms/step - loss: 0.0012\n",
      "Epoch 25/75\n",
      "19/19 [==============================] - 0s 11ms/step - loss: 0.0012\n",
      "Epoch 26/75\n",
      "19/19 [==============================] - 0s 13ms/step - loss: 0.0012\n",
      "Epoch 27/75\n",
      "19/19 [==============================] - 0s 11ms/step - loss: 0.0012\n",
      "Epoch 28/75\n",
      "19/19 [==============================] - 0s 11ms/step - loss: 0.0011\n",
      "Epoch 29/75\n",
      "19/19 [==============================] - 0s 11ms/step - loss: 0.0014\n",
      "Epoch 30/75\n",
      "19/19 [==============================] - 0s 12ms/step - loss: 0.0010\n",
      "Epoch 31/75\n",
      "19/19 [==============================] - 0s 13ms/step - loss: 0.0011\n",
      "Epoch 32/75\n",
      "19/19 [==============================] - 0s 12ms/step - loss: 0.0011\n",
      "Epoch 33/75\n",
      "19/19 [==============================] - 0s 11ms/step - loss: 0.0010\n",
      "Epoch 34/75\n",
      "19/19 [==============================] - 0s 11ms/step - loss: 9.6386e-04\n",
      "Epoch 35/75\n",
      "19/19 [==============================] - 0s 12ms/step - loss: 0.0010\n",
      "Epoch 36/75\n",
      "19/19 [==============================] - 0s 12ms/step - loss: 0.0010\n",
      "Epoch 37/75\n",
      "19/19 [==============================] - 0s 12ms/step - loss: 0.0011\n",
      "Epoch 38/75\n",
      "19/19 [==============================] - 0s 11ms/step - loss: 9.9249e-04\n",
      "Epoch 39/75\n",
      "19/19 [==============================] - 0s 12ms/step - loss: 9.8988e-04\n",
      "Epoch 40/75\n",
      "19/19 [==============================] - 0s 12ms/step - loss: 0.0011\n",
      "Epoch 41/75\n",
      "19/19 [==============================] - 0s 11ms/step - loss: 0.0012\n",
      "Epoch 42/75\n",
      "19/19 [==============================] - 0s 12ms/step - loss: 8.9688e-04\n",
      "Epoch 43/75\n",
      "19/19 [==============================] - 0s 12ms/step - loss: 8.1981e-04\n",
      "Epoch 44/75\n",
      "19/19 [==============================] - 0s 11ms/step - loss: 8.2062e-04\n",
      "Epoch 45/75\n",
      "19/19 [==============================] - 0s 11ms/step - loss: 0.0011\n",
      "Epoch 46/75\n",
      "19/19 [==============================] - 0s 11ms/step - loss: 0.0011\n",
      "Epoch 47/75\n",
      "19/19 [==============================] - 0s 12ms/step - loss: 0.0010\n",
      "Epoch 48/75\n",
      "19/19 [==============================] - 0s 12ms/step - loss: 8.2029e-04\n",
      "Epoch 49/75\n",
      "19/19 [==============================] - 0s 11ms/step - loss: 0.0011\n",
      "Epoch 50/75\n",
      "19/19 [==============================] - 0s 11ms/step - loss: 9.4295e-04\n",
      "Epoch 51/75\n",
      "19/19 [==============================] - 0s 12ms/step - loss: 9.5128e-04\n",
      "Epoch 52/75\n",
      "19/19 [==============================] - 0s 13ms/step - loss: 7.3278e-04\n",
      "Epoch 53/75\n",
      "19/19 [==============================] - 0s 12ms/step - loss: 8.2503e-04\n",
      "Epoch 54/75\n",
      "19/19 [==============================] - 0s 12ms/step - loss: 0.0013\n",
      "Epoch 55/75\n",
      "19/19 [==============================] - 0s 11ms/step - loss: 0.0012\n",
      "Epoch 56/75\n",
      "19/19 [==============================] - 0s 11ms/step - loss: 8.6253e-04\n",
      "Epoch 57/75\n",
      "19/19 [==============================] - 0s 12ms/step - loss: 8.8987e-04\n",
      "Epoch 58/75\n",
      "19/19 [==============================] - 0s 12ms/step - loss: 0.0012\n",
      "Epoch 59/75\n",
      "19/19 [==============================] - 0s 11ms/step - loss: 0.0012\n",
      "Epoch 60/75\n",
      "19/19 [==============================] - 0s 12ms/step - loss: 0.0012\n",
      "Epoch 61/75\n",
      "19/19 [==============================] - 0s 13ms/step - loss: 8.6739e-04\n",
      "Epoch 62/75\n",
      "19/19 [==============================] - 0s 13ms/step - loss: 8.3796e-04\n",
      "Epoch 63/75\n",
      "19/19 [==============================] - 0s 13ms/step - loss: 8.6663e-04\n",
      "Epoch 64/75\n",
      "19/19 [==============================] - 0s 12ms/step - loss: 0.0010\n",
      "Epoch 65/75\n",
      "19/19 [==============================] - 0s 12ms/step - loss: 9.3476e-04\n",
      "Epoch 66/75\n",
      "19/19 [==============================] - 0s 12ms/step - loss: 7.3161e-04\n",
      "Epoch 67/75\n",
      "19/19 [==============================] - 0s 12ms/step - loss: 8.2892e-04\n",
      "Epoch 68/75\n",
      "19/19 [==============================] - 0s 11ms/step - loss: 7.8656e-04\n",
      "Epoch 69/75\n",
      "19/19 [==============================] - 0s 11ms/step - loss: 6.9868e-04\n",
      "Epoch 70/75\n",
      "19/19 [==============================] - 0s 13ms/step - loss: 9.5036e-04\n",
      "Epoch 71/75\n",
      "19/19 [==============================] - 0s 13ms/step - loss: 0.0011\n",
      "Epoch 72/75\n",
      "19/19 [==============================] - 0s 12ms/step - loss: 8.9958e-04\n",
      "Epoch 73/75\n",
      "19/19 [==============================] - 0s 12ms/step - loss: 8.5457e-04\n",
      "Epoch 74/75\n",
      "19/19 [==============================] - 0s 13ms/step - loss: 6.0768e-04\n",
      "Epoch 75/75\n",
      "19/19 [==============================] - 0s 12ms/step - loss: 7.3230e-04\n"
     ]
    }
   ],
   "source": [
    "from keras.models import Sequential\n",
    "from keras.layers import Dense\n",
    "from keras.layers import LSTM\n",
    "from keras.layers import Dropout\n",
    "\n",
    "num_of_lstms = 1\n",
    "neurons_per_lstm = 50 \n",
    "num_of_epochs = 75\n",
    "optimizer_name = 'adam' # RMSProp/adam\n",
    "\n",
    "# Initialize the RNN\n",
    "regressor = Sequential()\n",
    "\n",
    "# Add 1st LSTM layer and some Dropout regularization\n",
    "regressor.add(LSTM(units=neurons_per_lstm, return_sequences=False, input_shape=(X_train.shape[1], X_train.shape[2])))\n",
    "#For more layers return_sequences=True\n",
    "regressor.add(Dropout(0.2))\n",
    "\n",
    "# Add 2nd LSTM layer and some Dropout regularization\n",
    "#regressor.add(LSTM(units=neurons_per_lstm, return_sequences=True))\n",
    "#regressor.add(Dropout(0.2))\n",
    "\n",
    "# Add 3rd LSTM layer and some Dropout regularization\n",
    "#regressor.add(LSTM(units=neurons_per_lstm, return_sequences=True))\n",
    "#regressor.add(Dropout(0.2))\n",
    "\n",
    "# Add 4th LSTM layer and some Dropout regularization\n",
    "#regressor.add(LSTM(units=neurons_per_lstm)) # return_sequences=False is the default value for return_sequences\n",
    "#regressor.add(Dropout(0.2))\n",
    "\n",
    "# Add output layer\n",
    "regressor.add(Dense(units=1))\n",
    "\n",
    "# Compiling the RNN\n",
    "regressor.compile(optimizer=optimizer_name, loss='mean_squared_error') \n",
    "\n",
    "# Fitting the RNN to the training set\n",
    "history = regressor.fit(X_train, y_train, epochs=num_of_epochs, batch_size=32)"
   ]
  },
  {
   "cell_type": "code",
   "execution_count": 11,
   "metadata": {
    "colab": {
     "base_uri": "https://localhost:8080/",
     "height": 0
    },
    "executionInfo": {
     "elapsed": 17,
     "status": "ok",
     "timestamp": 1637617428127,
     "user": {
      "displayName": "Argiris Tsaklidis",
      "photoUrl": "https://lh3.googleusercontent.com/a-/AOh14Gjz7TNidjcpzcmmTIkVKNOctegSKYbPz1RrAP1A7Q=s64",
      "userId": "14933309071414098186"
     },
     "user_tz": -120
    },
    "id": "lvwtDrDv6-J_",
    "outputId": "d60b2207-e7e5-45d7-b769-29663d27f67d"
   },
   "outputs": [
    {
     "data": {
      "text/plain": [
       "[<matplotlib.lines.Line2D at 0x7fc92215dfd0>]"
      ]
     },
     "execution_count": 11,
     "metadata": {},
     "output_type": "execute_result"
    },
    {
     "data": {
      "image/png": "[encoded data removed]",
      "text/plain": [
       "<Figure size 432x288 with 1 Axes>"
      ]
     },
     "metadata": {
      "needs_background": "light"
     },
     "output_type": "display_data"
    }
   ],
   "source": [
    "loss_per_epoch = regressor.history.history['loss']\n",
    "plt.ylabel(\"Loss\")\n",
    "plt.xlabel(\"Epoch\")\n",
    "plt.plot(range(len(loss_per_epoch)), loss_per_epoch)"
   ]
  },
  {
   "cell_type": "markdown",
   "metadata": {
    "id": "IBxqRZqbIJWe"
   },
   "source": [
    "# **Predicting using the RNN**"
   ]
  },
  {
   "cell_type": "code",
   "execution_count": 12,
   "metadata": {
    "executionInfo": {
     "elapsed": 684,
     "status": "ok",
     "timestamp": 1637617428796,
     "user": {
      "displayName": "Argiris Tsaklidis",
      "photoUrl": "https://lh3.googleusercontent.com/a-/AOh14Gjz7TNidjcpzcmmTIkVKNOctegSKYbPz1RrAP1A7Q=s64",
      "userId": "14933309071414098186"
     },
     "user_tz": -120
    },
    "id": "hAbmV_FG-kb5"
   },
   "outputs": [],
   "source": [
    "from sklearn.metrics import mean_squared_error\n",
    "from math import sqrt\n",
    "\n",
    "scaled_dataset_total = np.concatenate((scaled_train, scaled_test), axis=0)\n",
    "inputs = scaled_dataset_total[len(scaled_dataset_total) - len(scaled_test) - timesteps:]\n",
    "\n",
    "#Creating Data Structure\n",
    "X_test = []\n",
    "\n",
    "for i in range(timesteps, timesteps + len(test)):\n",
    "  X_test.append(inputs[i-timesteps:i, 0:scaled_train.shape[1]])\n",
    "\n",
    "X_test = np.array(X_test)\n",
    "\n",
    "#Reshaping\n",
    "X_test = np.reshape(X_test, (X_test.shape[0], X_test.shape[1], X_test.shape[2]))  #(batch_size->number of observations, timesteps, input_dimensions)\n",
    "\n",
    "#Predict\n",
    "scaled_predicted = regressor.predict(X_test)\n",
    "\n",
    "#Prepare data for inverse transform (inverse scaler expects 2 columns because it was fitted with 2 columns)\n",
    "predicted_copies = np.repeat(scaled_predicted, scaled_train.shape[1], axis=-1)\n",
    "\n",
    "#Inverse Scaling to prediction\n",
    "predicted = scaler.inverse_transform(predicted_copies)[:,0]\n",
    "predicted_df = pd.DataFrame(predicted, index = test.index)\n",
    "\n",
    "#Calculating Error\n",
    "rmse = sqrt(mean_squared_error(test['Close'], predicted_df))\n",
    "relative_rmse = sqrt(mean_squared_error(test['Close'], predicted_df))/test['Close'].std()\n",
    "\n",
    "# MAPE\n",
    "def mean_absolute_percentage_error(y_true, y_pred): \n",
    "    y_true, y_pred = np.array(y_true), np.array(y_pred)\n",
    "    return np.mean(np.abs((y_true - y_pred) / y_true)) * 100\n",
    "\n",
    "mape = mean_absolute_percentage_error(test['Close'],predicted_df)\n"
   ]
  },
  {
   "cell_type": "code",
   "execution_count": 13,
   "metadata": {
    "executionInfo": {
     "elapsed": 2171,
     "status": "ok",
     "timestamp": 1637617430964,
     "user": {
      "displayName": "Argiris Tsaklidis",
      "photoUrl": "https://lh3.googleusercontent.com/a-/AOh14Gjz7TNidjcpzcmmTIkVKNOctegSKYbPz1RrAP1A7Q=s64",
      "userId": "14933309071414098186"
     },
     "user_tz": -120
    },
    "id": "x0KVLWojcY8k"
   },
   "outputs": [],
   "source": [
    "import plotly.graph_objects as go\n",
    "\n",
    "fig = go.Figure()\n",
    "\n",
    "fig.add_trace(go.Scatter(\n",
    "    x=test.index,\n",
    "    y=test['Close'],\n",
    "    name = 'Real Value',\n",
    "    marker=dict(color=\"blue\"),\n",
    "    showlegend=True\n",
    "))\n",
    "\n",
    "fig.add_trace(go.Scatter(\n",
    "    x=predicted_df.index,\n",
    "    y=predicted_df[0],\n",
    "    name = 'Predicted Value',\n",
    "    marker=dict(color=\"red\"),\n",
    "    showlegend=True\n",
    "))\n",
    "\n",
    "fig.update_layout(\n",
    "    title=crypto_currency+\" price prediction\",\n",
    "    title_x=0.5,\n",
    "    xaxis_title=\"Date\",\n",
    "    yaxis_title=crypto_currency+\" value in \"+against_currency,\n",
    ")\n",
    "\n",
    "s = f\"\"\"\n",
    "Prediction Variables\n",
    "{'-'*35}\n",
    "Amount of training data: {len(train)}\n",
    "Amount of LSTM layers: {num_of_lstms}\n",
    "Timesteps: {timesteps}\n",
    "Neurons per LSTM layer: {neurons_per_lstm}\n",
    "Training/Test: {int(training_percentage*100)}% - {int(100-training_percentage*100)}%\n",
    "RMSE: {round(rmse,2)}\n",
    "Relative/Normalized RMSE: {round((relative_rmse*100),2)}%\n",
    "MAPE: {round(mape,2)}%\n",
    "Optimizer: {optimizer_name}\n",
    "Epochs: {num_of_epochs}\n",
    "{'-'*35}\n",
    "\"\"\""
   ]
  },
  {
   "cell_type": "markdown",
   "metadata": {
    "id": "rEaDf07-pStF"
   },
   "source": [
    "# **Results**"
   ]
  },
  {
   "cell_type": "code",
   "execution_count": 14,
   "metadata": {
    "colab": {
     "base_uri": "https://localhost:8080/",
     "height": 797
    },
    "executionInfo": {
     "elapsed": 12,
     "status": "ok",
     "timestamp": 1637617430968,
     "user": {
      "displayName": "Argiris Tsaklidis",
      "photoUrl": "https://lh3.googleusercontent.com/a-/AOh14Gjz7TNidjcpzcmmTIkVKNOctegSKYbPz1RrAP1A7Q=s64",
      "userId": "14933309071414098186"
     },
     "user_tz": -120
    },
    "id": "ZbAnKibZpFYs",
    "outputId": "abf80e5a-9073-4f29-9343-5f35aa618971"
   },
   "outputs": [
    {
     "data": {
      "text/html": [
       "<html>\n",
       "<head><meta charset=\"utf-8\" /></head>\n",
       "<body>\n",
       "    <div>\n",
       "            <script src=\"https://cdnjs.cloudflare.com/ajax/libs/mathjax/2.7.5/MathJax.js?config=TeX-AMS-MML_SVG\"></script><script type=\"text/javascript\">if (window.MathJax) {MathJax.Hub.Config({SVG: {font: \"STIX-Web\"}});}</script>\n",
       "                <script type=\"text/javascript\">window.PlotlyConfig = {MathJaxConfig: 'local'};</script>\n",
       "        <script src=\"https://cdn.plot.ly/plotly-latest.min.js\"></script>    \n",
       "            <div id=\"437c87f5-3172-4fe7-bfbb-ba189d328976\" class=\"plotly-graph-div\" style=\"height:525px; width:100%;\"></div>\n",
       "            <script type=\"text/javascript\">\n",
       "                \n",
       "                    window.PLOTLYENV=window.PLOTLYENV || {};\n",
       "                    \n",
       "                if (document.getElementById(\"437c87f5-3172-4fe7-bfbb-ba189d328976\")) {\n",
       "                    Plotly.newPlot(\n",
       "                        '437c87f5-3172-4fe7-bfbb-ba189d328976',\n",
       "                        [{\"marker\": {\"color\": \"blue\"}, \"name\": \"Real Value\", \"showlegend\": true, \"type\": \"scatter\", \"x\": [\"2021-06-06T00:00:00\", \"2021-06-07T00:00:00\", \"2021-06-08T00:00:00\", \"2021-06-09T00:00:00\", \"2021-06-10T00:00:00\", \"2021-06-11T00:00:00\", \"2021-06-12T00:00:00\", \"2021-06-13T00:00:00\", \"2021-06-14T00:00:00\", \"2021-06-15T00:00:00\", \"2021-06-16T00:00:00\", \"2021-06-17T00:00:00\", \"2021-06-18T00:00:00\", \"2021-06-19T00:00:00\", \"2021-06-20T00:00:00\", \"2021-06-21T00:00:00\", \"2021-06-22T00:00:00\", \"2021-06-23T00:00:00\", \"2021-06-24T00:00:00\", \"2021-06-25T00:00:00\", \"2021-06-26T00:00:00\", \"2021-06-27T00:00:00\", \"2021-06-28T00:00:00\", \"2021-06-29T00:00:00\", \"2021-06-30T00:00:00\", \"2021-07-01T00:00:00\", \"2021-07-02T00:00:00\", \"2021-07-03T00:00:00\", \"2021-07-04T00:00:00\", \"2021-07-05T00:00:00\", \"2021-07-06T00:00:00\", \"2021-07-07T00:00:00\", \"2021-07-08T00:00:00\", \"2021-07-09T00:00:00\", \"2021-07-10T00:00:00\", \"2021-07-11T00:00:00\", \"2021-07-12T00:00:00\", \"2021-07-13T00:00:00\", \"2021-07-14T00:00:00\", \"2021-07-15T00:00:00\", \"2021-07-16T00:00:00\", \"2021-07-17T00:00:00\", \"2021-07-18T00:00:00\", \"2021-07-19T00:00:00\", \"2021-07-20T00:00:00\", \"2021-07-21T00:00:00\", \"2021-07-22T00:00:00\", \"2021-07-23T00:00:00\", \"2021-07-24T00:00:00\", \"2021-07-25T00:00:00\", \"2021-07-26T00:00:00\", \"2021-07-27T00:00:00\", \"2021-07-28T00:00:00\", \"2021-07-29T00:00:00\", \"2021-07-30T00:00:00\", \"2021-07-31T00:00:00\", \"2021-08-01T00:00:00\", \"2021-08-02T00:00:00\", \"2021-08-03T00:00:00\", \"2021-08-04T00:00:00\", \"2021-08-05T00:00:00\", \"2021-08-06T00:00:00\", \"2021-08-07T00:00:00\", \"2021-08-08T00:00:00\", \"2021-08-09T00:00:00\", \"2021-08-10T00:00:00\", \"2021-08-11T00:00:00\", \"2021-08-12T00:00:00\", \"2021-08-13T00:00:00\", \"2021-08-14T00:00:00\", \"2021-08-15T00:00:00\", \"2021-08-16T00:00:00\", \"2021-08-17T00:00:00\", \"2021-08-18T00:00:00\", \"2021-08-19T00:00:00\", \"2021-08-20T00:00:00\", \"2021-08-21T00:00:00\", \"2021-08-22T00:00:00\", \"2021-08-23T00:00:00\", \"2021-08-24T00:00:00\", \"2021-08-25T00:00:00\", \"2021-08-26T00:00:00\", \"2021-08-27T00:00:00\", \"2021-08-28T00:00:00\", \"2021-08-29T00:00:00\", \"2021-08-30T00:00:00\", \"2021-08-31T00:00:00\", \"2021-09-01T00:00:00\", \"2021-09-02T00:00:00\", \"2021-09-03T00:00:00\", \"2021-09-04T00:00:00\", \"2021-09-05T00:00:00\", \"2021-09-06T00:00:00\", \"2021-09-07T00:00:00\", \"2021-09-08T00:00:00\", \"2021-09-09T00:00:00\", \"2021-09-10T00:00:00\", \"2021-09-11T00:00:00\", \"2021-09-12T00:00:00\", \"2021-09-13T00:00:00\", \"2021-09-14T00:00:00\", \"2021-09-15T00:00:00\", \"2021-09-16T00:00:00\", \"2021-09-17T00:00:00\", \"2021-09-18T00:00:00\", \"2021-09-19T00:00:00\", \"2021-09-20T00:00:00\", \"2021-09-21T00:00:00\", \"2021-09-22T00:00:00\", \"2021-09-23T00:00:00\", \"2021-09-24T00:00:00\", \"2021-09-25T00:00:00\", \"2021-09-26T00:00:00\", \"2021-09-27T00:00:00\", \"2021-09-28T00:00:00\", \"2021-09-29T00:00:00\", \"2021-09-30T00:00:00\", \"2021-10-01T00:00:00\", \"2021-10-02T00:00:00\", \"2021-10-03T00:00:00\", \"2021-10-04T00:00:00\", \"2021-10-05T00:00:00\", \"2021-10-06T00:00:00\", \"2021-10-07T00:00:00\", \"2021-10-08T00:00:00\", \"2021-10-09T00:00:00\", \"2021-10-10T00:00:00\", \"2021-10-11T00:00:00\", \"2021-10-12T00:00:00\", \"2021-10-13T00:00:00\", \"2021-10-14T00:00:00\", \"2021-10-15T00:00:00\", \"2021-10-16T00:00:00\", \"2021-10-17T00:00:00\", \"2021-10-18T00:00:00\", \"2021-10-19T00:00:00\", \"2021-10-20T00:00:00\", \"2021-10-21T00:00:00\", \"2021-10-22T00:00:00\", \"2021-10-23T00:00:00\", \"2021-10-24T00:00:00\", \"2021-10-25T00:00:00\", \"2021-10-26T00:00:00\", \"2021-10-27T00:00:00\", \"2021-10-28T00:00:00\", \"2021-10-29T00:00:00\", \"2021-10-30T00:00:00\", \"2021-10-31T00:00:00\", \"2021-11-01T00:00:00\", \"2021-11-02T00:00:00\", \"2021-11-03T00:00:00\", \"2021-11-04T00:00:00\", \"2021-11-05T00:00:00\", \"2021-11-06T00:00:00\", \"2021-11-07T00:00:00\", \"2021-11-08T00:00:00\"], \"y\": [29474.392578125, 27526.4921875, 27497.93359375, 30664.52734375, 30150.48828125, 30832.0546875, 29360.513671875, 32286.505859375, 33178.515625, 33325.59375, 31969.333984375, 31943.0625, 30165.85546875, 30019.2265625, 30071.78125, 26591.064453125, 27232.396484375, 28266.576171875, 29059.703125, 26502.841796875, 26965.501953125, 29013.7421875, 28866.302734375, 30139.98046875, 29555.0546875, 28341.4140625, 28569.314453125, 29219.5546875, 29764.078125, 28444.033203125, 28957.701171875, 28707.89453125, 27752.7109375, 28454.8828125, 28223.0703125, 28840.88671875, 27948.556640625, 27772.1953125, 27737.478515625, 26906.45703125, 26616.2421875, 26710.71484375, 26917.8125, 26134.5390625, 25299.8515625, 27227.458984375, 27447.947265625, 28527.830078125, 29132.255859375, 30026.51953125, 31628.84765625, 33336.06640625, 33764.22265625, 33643.08203125, 35590.078125, 35077.26953125, 33690.84375, 33015.015625, 32145.03125, 33576.1875, 34536.40625, 36399.93359375, 37878.578125, 37281.74609375, 39501.9296875, 38895.97265625, 38829.91015625, 37857.078125, 40514.828125, 39924.8359375, 39890.16796875, 39058.03515625, 38170.50390625, 38282.078125, 40011.64453125, 42168.41796875, 41810.28125, 42166.0703125, 42187.3046875, 40591.27734375, 41589.10546875, 39938.91015625, 41591.3515625, 41458.87109375, 41386.45703125, 39888.60546875, 39937.78125, 41250.73046875, 41543.1171875, 42112.26171875, 42028.5546875, 43543.5078125, 44329.0703125, 39521.41796875, 38997.87890625, 39233.2265625, 38002.7578125, 38258.65234375, 38997.02734375, 38073.3359375, 39900.29296875, 40762.15234375, 40615.28125, 40312.578125, 41172.41796875, 40292.125, 36534.49609375, 34712.96875, 37283.484375, 38240.87890625, 36550.9609375, 36447.29296875, 36858.828125, 36112.015625, 35113.8359375, 35828.7734375, 37835.90234375, 41501.77734375, 41152.0625, 41527.53515625, 42279.28125, 44425.19140625, 47910.8515625, 46546.96484375, 46648.671875, 47508.265625, 47357.20703125, 49755.9609375, 48601.88671875, 49497.3671875, 49455.80859375, 53099.58984375, 52494.6015625, 53079.34765625, 53408.671875, 55238.7734375, 56634.0625, 53515.7421875, 52123.00390625, 52734.6015625, 52347.99609375, 54303.453125, 52053.44921875, 50421.9375, 51892.3046875, 53825.32421875, 53531.98046875, 53060.58203125, 52591.9609375, 54603.7734375, 54214.62890625, 53180.63671875, 52915.76171875, 53263.6015625, 54741.9375, 58305.0390625]}, {\"marker\": {\"color\": \"red\"}, \"name\": \"Predicted Value\", \"showlegend\": true, \"type\": \"scatter\", \"x\": [\"2021-06-06T00:00:00\", \"2021-06-07T00:00:00\", \"2021-06-08T00:00:00\", \"2021-06-09T00:00:00\", \"2021-06-10T00:00:00\", \"2021-06-11T00:00:00\", \"2021-06-12T00:00:00\", \"2021-06-13T00:00:00\", \"2021-06-14T00:00:00\", \"2021-06-15T00:00:00\", \"2021-06-16T00:00:00\", \"2021-06-17T00:00:00\", \"2021-06-18T00:00:00\", \"2021-06-19T00:00:00\", \"2021-06-20T00:00:00\", \"2021-06-21T00:00:00\", \"2021-06-22T00:00:00\", \"2021-06-23T00:00:00\", \"2021-06-24T00:00:00\", \"2021-06-25T00:00:00\", \"2021-06-26T00:00:00\", \"2021-06-27T00:00:00\", \"2021-06-28T00:00:00\", \"2021-06-29T00:00:00\", \"2021-06-30T00:00:00\", \"2021-07-01T00:00:00\", \"2021-07-02T00:00:00\", \"2021-07-03T00:00:00\", \"2021-07-04T00:00:00\", \"2021-07-05T00:00:00\", \"2021-07-06T00:00:00\", \"2021-07-07T00:00:00\", \"2021-07-08T00:00:00\", \"2021-07-09T00:00:00\", \"2021-07-10T00:00:00\", \"2021-07-11T00:00:00\", \"2021-07-12T00:00:00\", \"2021-07-13T00:00:00\", \"2021-07-14T00:00:00\", \"2021-07-15T00:00:00\", \"2021-07-16T00:00:00\", \"2021-07-17T00:00:00\", \"2021-07-18T00:00:00\", \"2021-07-19T00:00:00\", \"2021-07-20T00:00:00\", \"2021-07-21T00:00:00\", \"2021-07-22T00:00:00\", \"2021-07-23T00:00:00\", \"2021-07-24T00:00:00\", \"2021-07-25T00:00:00\", \"2021-07-26T00:00:00\", \"2021-07-27T00:00:00\", \"2021-07-28T00:00:00\", \"2021-07-29T00:00:00\", \"2021-07-30T00:00:00\", \"2021-07-31T00:00:00\", \"2021-08-01T00:00:00\", \"2021-08-02T00:00:00\", \"2021-08-03T00:00:00\", \"2021-08-04T00:00:00\", \"2021-08-05T00:00:00\", \"2021-08-06T00:00:00\", \"2021-08-07T00:00:00\", \"2021-08-08T00:00:00\", \"2021-08-09T00:00:00\", \"2021-08-10T00:00:00\", \"2021-08-11T00:00:00\", \"2021-08-12T00:00:00\", \"2021-08-13T00:00:00\", \"2021-08-14T00:00:00\", \"2021-08-15T00:00:00\", \"2021-08-16T00:00:00\", \"2021-08-17T00:00:00\", \"2021-08-18T00:00:00\", \"2021-08-19T00:00:00\", \"2021-08-20T00:00:00\", \"2021-08-21T00:00:00\", \"2021-08-22T00:00:00\", \"2021-08-23T00:00:00\", \"2021-08-24T00:00:00\", \"2021-08-25T00:00:00\", \"2021-08-26T00:00:00\", \"2021-08-27T00:00:00\", \"2021-08-28T00:00:00\", \"2021-08-29T00:00:00\", \"2021-08-30T00:00:00\", \"2021-08-31T00:00:00\", \"2021-09-01T00:00:00\", \"2021-09-02T00:00:00\", \"2021-09-03T00:00:00\", \"2021-09-04T00:00:00\", \"2021-09-05T00:00:00\", \"2021-09-06T00:00:00\", \"2021-09-07T00:00:00\", \"2021-09-08T00:00:00\", \"2021-09-09T00:00:00\", \"2021-09-10T00:00:00\", \"2021-09-11T00:00:00\", \"2021-09-12T00:00:00\", \"2021-09-13T00:00:00\", \"2021-09-14T00:00:00\", \"2021-09-15T00:00:00\", \"2021-09-16T00:00:00\", \"2021-09-17T00:00:00\", \"2021-09-18T00:00:00\", \"2021-09-19T00:00:00\", \"2021-09-20T00:00:00\", \"2021-09-21T00:00:00\", \"2021-09-22T00:00:00\", \"2021-09-23T00:00:00\", \"2021-09-24T00:00:00\", \"2021-09-25T00:00:00\", \"2021-09-26T00:00:00\", \"2021-09-27T00:00:00\", \"2021-09-28T00:00:00\", \"2021-09-29T00:00:00\", \"2021-09-30T00:00:00\", \"2021-10-01T00:00:00\", \"2021-10-02T00:00:00\", \"2021-10-03T00:00:00\", \"2021-10-04T00:00:00\", \"2021-10-05T00:00:00\", \"2021-10-06T00:00:00\", \"2021-10-07T00:00:00\", \"2021-10-08T00:00:00\", \"2021-10-09T00:00:00\", \"2021-10-10T00:00:00\", \"2021-10-11T00:00:00\", \"2021-10-12T00:00:00\", \"2021-10-13T00:00:00\", \"2021-10-14T00:00:00\", \"2021-10-15T00:00:00\", \"2021-10-16T00:00:00\", \"2021-10-17T00:00:00\", \"2021-10-18T00:00:00\", \"2021-10-19T00:00:00\", \"2021-10-20T00:00:00\", \"2021-10-21T00:00:00\", \"2021-10-22T00:00:00\", \"2021-10-23T00:00:00\", \"2021-10-24T00:00:00\", \"2021-10-25T00:00:00\", \"2021-10-26T00:00:00\", \"2021-10-27T00:00:00\", \"2021-10-28T00:00:00\", \"2021-10-29T00:00:00\", \"2021-10-30T00:00:00\", \"2021-10-31T00:00:00\", \"2021-11-01T00:00:00\", \"2021-11-02T00:00:00\", \"2021-11-03T00:00:00\", \"2021-11-04T00:00:00\", \"2021-11-05T00:00:00\", \"2021-11-06T00:00:00\", \"2021-11-07T00:00:00\", \"2021-11-08T00:00:00\"], \"y\": [31558.798828125, 31079.2265625, 30234.154296875, 28968.958984375, 29408.4296875, 30422.560546875, 31090.841796875, 31112.9375, 31738.4453125, 33106.35546875, 34069.13671875, 34086.2578125, 33833.86328125, 32908.51171875, 32018.318359375, 31267.9609375, 29813.654296875, 28310.08203125, 28349.859375, 28882.77734375, 28680.255859375, 28057.6796875, 28626.015625, 29406.041015625, 30258.931640625, 30687.62890625, 30350.921875, 29946.5859375, 30075.802734375, 30509.119140625, 30306.236328125, 30206.814453125, 30186.267578125, 29616.931640625, 29378.427734375, 29397.75, 29598.46484375, 29511.03125, 29232.236328125, 28951.279296875, 28584.779296875, 28157.166015625, 27934.806640625, 27924.552734375, 27667.609375, 27085.9921875, 27236.052734375, 27852.025390625, 28578.5390625, 29468.763671875, 30323.87109375, 31697.404296875, 32959.33203125, 34287.875, 35001.20703125, 35668.484375, 36392.09375, 36180.54296875, 35405.8515625, 34529.16015625, 34269.59765625, 34532.2890625, 35693.28515625, 37315.296875, 38357.30859375, 39316.79296875, 40126.94140625, 40497.68359375, 40137.4140625, 40563.5703125, 41094.6875, 41114.38671875, 41004.21875, 40442.12890625, 39971.23828125, 40155.20703125, 41490.82421875, 42521.85546875, 43130.26171875, 43563.7265625, 43116.03515625, 42768.28125, 42217.59765625, 42074.265625, 42456.0546875, 42611.06640625, 42120.50390625, 41614.171875, 41683.07421875, 42300.6484375, 42747.82421875, 43160.69140625, 43856.64453125, 44729.22265625, 42993.15625, 41278.296875, 40636.30078125, 39941.3984375, 39559.53515625, 39677.0390625, 39455.0859375, 39902.765625, 40948.06640625, 41601.078125, 41819.61328125, 42171.6484375, 42129.38671875, 40422.38671875, 38057.578125, 37442.88671875, 38078.6328125, 37899.9140625, 37659.96484375, 37636.62109375, 37747.2265625, 37234.27734375, 37016.39453125, 37691.5234375, 39648.640625, 41523.62890625, 42572.5859375, 43155.1484375, 44421.21484375, 46474.18359375, 47877.28125, 48464.734375, 48743.4765625, 48956.9765625, 49654.78125, 49902.37890625, 50016.1328125, 50573.92578125, 51947.234375, 53272.42578125, 53720.41796875, 54157.56640625, 55073.5, 56468.2421875, 56165.6796875, 54795.453125, 53945.609375, 53474.49609375, 54072.7734375, 53893.3359375, 52734.38671875, 52379.76171875, 53351.21484375, 54068.76953125, 54176.57421875, 53983.9921875, 54563.7734375, 54916.421875, 54730.4921875, 54453.8203125, 54169.22265625, 54813.21484375]}],\n",
       "                        {\"template\": {\"data\": {\"bar\": [{\"error_x\": {\"color\": \"#2a3f5f\"}, \"error_y\": {\"color\": \"#2a3f5f\"}, \"marker\": {\"line\": {\"color\": \"#E5ECF6\", \"width\": 0.5}}, \"type\": \"bar\"}], \"barpolar\": [{\"marker\": {\"line\": {\"color\": \"#E5ECF6\", \"width\": 0.5}}, \"type\": \"barpolar\"}], \"carpet\": [{\"aaxis\": {\"endlinecolor\": \"#2a3f5f\", \"gridcolor\": \"white\", \"linecolor\": \"white\", \"minorgridcolor\": \"white\", \"startlinecolor\": \"#2a3f5f\"}, \"baxis\": {\"endlinecolor\": \"#2a3f5f\", \"gridcolor\": \"white\", \"linecolor\": \"white\", \"minorgridcolor\": \"white\", \"startlinecolor\": \"#2a3f5f\"}, \"type\": \"carpet\"}], \"choropleth\": [{\"colorbar\": {\"outlinewidth\": 0, \"ticks\": \"\"}, \"type\": \"choropleth\"}], \"contour\": [{\"colorbar\": {\"outlinewidth\": 0, \"ticks\": \"\"}, \"colorscale\": [[0.0, \"#0d0887\"], [0.1111111111111111, \"#46039f\"], [0.2222222222222222, \"#7201a8\"], [0.3333333333333333, \"#9c179e\"], [0.4444444444444444, \"#bd3786\"], [0.5555555555555556, \"#d8576b\"], [0.6666666666666666, \"#ed7953\"], [0.7777777777777778, \"#fb9f3a\"], [0.8888888888888888, \"#fdca26\"], [1.0, \"#f0f921\"]], \"type\": \"contour\"}], \"contourcarpet\": [{\"colorbar\": {\"outlinewidth\": 0, \"ticks\": \"\"}, \"type\": \"contourcarpet\"}], \"heatmap\": [{\"colorbar\": {\"outlinewidth\": 0, \"ticks\": \"\"}, \"colorscale\": [[0.0, \"#0d0887\"], [0.1111111111111111, \"#46039f\"], [0.2222222222222222, \"#7201a8\"], [0.3333333333333333, \"#9c179e\"], [0.4444444444444444, \"#bd3786\"], [0.5555555555555556, \"#d8576b\"], [0.6666666666666666, \"#ed7953\"], [0.7777777777777778, \"#fb9f3a\"], [0.8888888888888888, \"#fdca26\"], [1.0, \"#f0f921\"]], \"type\": \"heatmap\"}], \"heatmapgl\": [{\"colorbar\": {\"outlinewidth\": 0, \"ticks\": \"\"}, \"colorscale\": [[0.0, \"#0d0887\"], [0.1111111111111111, \"#46039f\"], [0.2222222222222222, \"#7201a8\"], [0.3333333333333333, \"#9c179e\"], [0.4444444444444444, \"#bd3786\"], [0.5555555555555556, \"#d8576b\"], [0.6666666666666666, \"#ed7953\"], [0.7777777777777778, \"#fb9f3a\"], [0.8888888888888888, \"#fdca26\"], [1.0, \"#f0f921\"]], \"type\": \"heatmapgl\"}], \"histogram\": [{\"marker\": {\"colorbar\": {\"outlinewidth\": 0, \"ticks\": \"\"}}, \"type\": \"histogram\"}], \"histogram2d\": [{\"colorbar\": {\"outlinewidth\": 0, \"ticks\": \"\"}, \"colorscale\": [[0.0, \"#0d0887\"], [0.1111111111111111, \"#46039f\"], [0.2222222222222222, \"#7201a8\"], [0.3333333333333333, \"#9c179e\"], [0.4444444444444444, \"#bd3786\"], [0.5555555555555556, \"#d8576b\"], [0.6666666666666666, \"#ed7953\"], [0.7777777777777778, \"#fb9f3a\"], [0.8888888888888888, \"#fdca26\"], [1.0, \"#f0f921\"]], \"type\": \"histogram2d\"}], \"histogram2dcontour\": [{\"colorbar\": {\"outlinewidth\": 0, \"ticks\": \"\"}, \"colorscale\": [[0.0, \"#0d0887\"], [0.1111111111111111, \"#46039f\"], [0.2222222222222222, \"#7201a8\"], [0.3333333333333333, \"#9c179e\"], [0.4444444444444444, \"#bd3786\"], [0.5555555555555556, \"#d8576b\"], [0.6666666666666666, \"#ed7953\"], [0.7777777777777778, \"#fb9f3a\"], [0.8888888888888888, \"#fdca26\"], [1.0, \"#f0f921\"]], \"type\": \"histogram2dcontour\"}], \"mesh3d\": [{\"colorbar\": {\"outlinewidth\": 0, \"ticks\": \"\"}, \"type\": \"mesh3d\"}], \"parcoords\": [{\"line\": {\"colorbar\": {\"outlinewidth\": 0, \"ticks\": \"\"}}, \"type\": \"parcoords\"}], \"pie\": [{\"automargin\": true, \"type\": \"pie\"}], \"scatter\": [{\"marker\": {\"colorbar\": {\"outlinewidth\": 0, \"ticks\": \"\"}}, \"type\": \"scatter\"}], \"scatter3d\": [{\"line\": {\"colorbar\": {\"outlinewidth\": 0, \"ticks\": \"\"}}, \"marker\": {\"colorbar\": {\"outlinewidth\": 0, \"ticks\": \"\"}}, \"type\": \"scatter3d\"}], \"scattercarpet\": [{\"marker\": {\"colorbar\": {\"outlinewidth\": 0, \"ticks\": \"\"}}, \"type\": \"scattercarpet\"}], \"scattergeo\": [{\"marker\": {\"colorbar\": {\"outlinewidth\": 0, \"ticks\": \"\"}}, \"type\": \"scattergeo\"}], \"scattergl\": [{\"marker\": {\"colorbar\": {\"outlinewidth\": 0, \"ticks\": \"\"}}, \"type\": \"scattergl\"}], \"scattermapbox\": [{\"marker\": {\"colorbar\": {\"outlinewidth\": 0, \"ticks\": \"\"}}, \"type\": \"scattermapbox\"}], \"scatterpolar\": [{\"marker\": {\"colorbar\": {\"outlinewidth\": 0, \"ticks\": \"\"}}, \"type\": \"scatterpolar\"}], \"scatterpolargl\": [{\"marker\": {\"colorbar\": {\"outlinewidth\": 0, \"ticks\": \"\"}}, \"type\": \"scatterpolargl\"}], \"scatterternary\": [{\"marker\": {\"colorbar\": {\"outlinewidth\": 0, \"ticks\": \"\"}}, \"type\": \"scatterternary\"}], \"surface\": [{\"colorbar\": {\"outlinewidth\": 0, \"ticks\": \"\"}, \"colorscale\": [[0.0, \"#0d0887\"], [0.1111111111111111, \"#46039f\"], [0.2222222222222222, \"#7201a8\"], [0.3333333333333333, \"#9c179e\"], [0.4444444444444444, \"#bd3786\"], [0.5555555555555556, \"#d8576b\"], [0.6666666666666666, \"#ed7953\"], [0.7777777777777778, \"#fb9f3a\"], [0.8888888888888888, \"#fdca26\"], [1.0, \"#f0f921\"]], \"type\": \"surface\"}], \"table\": [{\"cells\": {\"fill\": {\"color\": \"#EBF0F8\"}, \"line\": {\"color\": \"white\"}}, \"header\": {\"fill\": {\"color\": \"#C8D4E3\"}, \"line\": {\"color\": \"white\"}}, \"type\": \"table\"}]}, \"layout\": {\"annotationdefaults\": {\"arrowcolor\": \"#2a3f5f\", \"arrowhead\": 0, \"arrowwidth\": 1}, \"coloraxis\": {\"colorbar\": {\"outlinewidth\": 0, \"ticks\": \"\"}}, \"colorscale\": {\"diverging\": [[0, \"#8e0152\"], [0.1, \"#c51b7d\"], [0.2, \"#de77ae\"], [0.3, \"#f1b6da\"], [0.4, \"#fde0ef\"], [0.5, \"#f7f7f7\"], [0.6, \"#e6f5d0\"], [0.7, \"#b8e186\"], [0.8, \"#7fbc41\"], [0.9, \"#4d9221\"], [1, \"#276419\"]], \"sequential\": [[0.0, \"#0d0887\"], [0.1111111111111111, \"#46039f\"], [0.2222222222222222, \"#7201a8\"], [0.3333333333333333, \"#9c179e\"], [0.4444444444444444, \"#bd3786\"], [0.5555555555555556, \"#d8576b\"], [0.6666666666666666, \"#ed7953\"], [0.7777777777777778, \"#fb9f3a\"], [0.8888888888888888, \"#fdca26\"], [1.0, \"#f0f921\"]], \"sequentialminus\": [[0.0, \"#0d0887\"], [0.1111111111111111, \"#46039f\"], [0.2222222222222222, \"#7201a8\"], [0.3333333333333333, \"#9c179e\"], [0.4444444444444444, \"#bd3786\"], [0.5555555555555556, \"#d8576b\"], [0.6666666666666666, \"#ed7953\"], [0.7777777777777778, \"#fb9f3a\"], [0.8888888888888888, \"#fdca26\"], [1.0, \"#f0f921\"]]}, \"colorway\": [\"#636efa\", \"#EF553B\", \"#00cc96\", \"#ab63fa\", \"#FFA15A\", \"#19d3f3\", \"#FF6692\", \"#B6E880\", \"#FF97FF\", \"#FECB52\"], \"font\": {\"color\": \"#2a3f5f\"}, \"geo\": {\"bgcolor\": \"white\", \"lakecolor\": \"white\", \"landcolor\": \"#E5ECF6\", \"showlakes\": true, \"showland\": true, \"subunitcolor\": \"white\"}, \"hoverlabel\": {\"align\": \"left\"}, \"hovermode\": \"closest\", \"mapbox\": {\"style\": \"light\"}, \"paper_bgcolor\": \"white\", \"plot_bgcolor\": \"#E5ECF6\", \"polar\": {\"angularaxis\": {\"gridcolor\": \"white\", \"linecolor\": \"white\", \"ticks\": \"\"}, \"bgcolor\": \"#E5ECF6\", \"radialaxis\": {\"gridcolor\": \"white\", \"linecolor\": \"white\", \"ticks\": \"\"}}, \"scene\": {\"xaxis\": {\"backgroundcolor\": \"#E5ECF6\", \"gridcolor\": \"white\", \"gridwidth\": 2, \"linecolor\": \"white\", \"showbackground\": true, \"ticks\": \"\", \"zerolinecolor\": \"white\"}, \"yaxis\": {\"backgroundcolor\": \"#E5ECF6\", \"gridcolor\": \"white\", \"gridwidth\": 2, \"linecolor\": \"white\", \"showbackground\": true, \"ticks\": \"\", \"zerolinecolor\": \"white\"}, \"zaxis\": {\"backgroundcolor\": \"#E5ECF6\", \"gridcolor\": \"white\", \"gridwidth\": 2, \"linecolor\": \"white\", \"showbackground\": true, \"ticks\": \"\", \"zerolinecolor\": \"white\"}}, \"shapedefaults\": {\"line\": {\"color\": \"#2a3f5f\"}}, \"ternary\": {\"aaxis\": {\"gridcolor\": \"white\", \"linecolor\": \"white\", \"ticks\": \"\"}, \"baxis\": {\"gridcolor\": \"white\", \"linecolor\": \"white\", \"ticks\": \"\"}, \"bgcolor\": \"#E5ECF6\", \"caxis\": {\"gridcolor\": \"white\", \"linecolor\": \"white\", \"ticks\": \"\"}}, \"title\": {\"x\": 0.05}, \"xaxis\": {\"automargin\": true, \"gridcolor\": \"white\", \"linecolor\": \"white\", \"ticks\": \"\", \"title\": {\"standoff\": 15}, \"zerolinecolor\": \"white\", \"zerolinewidth\": 2}, \"yaxis\": {\"automargin\": true, \"gridcolor\": \"white\", \"linecolor\": \"white\", \"ticks\": \"\", \"title\": {\"standoff\": 15}, \"zerolinecolor\": \"white\", \"zerolinewidth\": 2}}}, \"title\": {\"text\": \"BTC price prediction\", \"x\": 0.5}, \"xaxis\": {\"title\": {\"text\": \"Date\"}}, \"yaxis\": {\"title\": {\"text\": \"BTC value in EUR\"}}},\n",
       "                        {\"responsive\": true}\n",
       "                    ).then(function(){\n",
       "                            \n",
       "var gd = document.getElementById('437c87f5-3172-4fe7-bfbb-ba189d328976');\n",
       "var x = new MutationObserver(function (mutations, observer) {{\n",
       "        var display = window.getComputedStyle(gd).display;\n",
       "        if (!display || display === 'none') {{\n",
       "            console.log([gd, 'removed!']);\n",
       "            Plotly.purge(gd);\n",
       "            observer.disconnect();\n",
       "        }}\n",
       "}});\n",
       "\n",
       "// Listen for the removal of the full notebook cells\n",
       "var notebookContainer = gd.closest('#notebook-container');\n",
       "if (notebookContainer) {{\n",
       "    x.observe(notebookContainer, {childList: true});\n",
       "}}\n",
       "\n",
       "// Listen for the clearing of the current output cell\n",
       "var outputEl = gd.closest('.output');\n",
       "if (outputEl) {{\n",
       "    x.observe(outputEl, {childList: true});\n",
       "}}\n",
       "\n",
       "                        })\n",
       "                };\n",
       "                \n",
       "            </script>\n",
       "        </div>\n",
       "</body>\n",
       "</html>"
      ]
     },
     "metadata": {},
     "output_type": "display_data"
    },
    {
     "name": "stdout",
     "output_type": "stream",
     "text": [
      "\n",
      "Prediction Variables\n",
      "-----------------------------------\n",
      "Amount of training data: 623\n",
      "Amount of LSTM layers: 1\n",
      "Timesteps: 21\n",
      "Neurons per LSTM layer: 50\n",
      "Training/Test: 80% - 20%\n",
      "RMSE: 1875.13\n",
      "Relative/Normalized RMSE: 21.27%\n",
      "MAPE: 26.77%\n",
      "Optimizer: adam\n",
      "Epochs: 75\n",
      "-----------------------------------\n",
      "based on values: Open High Low Close Volume "
     ]
    }
   ],
   "source": [
    "fig.show()\n",
    "print(s, end='')\n",
    "print(\"based on values:\", end=' ')\n",
    "for col in (prices.columns): \n",
    "  print(col, end=' ')"
   ]
  },
  {
   "cell_type": "code",
   "execution_count": 14,
   "metadata": {
    "executionInfo": {
     "elapsed": 11,
     "status": "ok",
     "timestamp": 1637617430970,
     "user": {
      "displayName": "Argiris Tsaklidis",
      "photoUrl": "https://lh3.googleusercontent.com/a-/AOh14Gjz7TNidjcpzcmmTIkVKNOctegSKYbPz1RrAP1A7Q=s64",
      "userId": "14933309071414098186"
     },
     "user_tz": -120
    },
    "id": "-SgNCJh9QMJh"
   },
   "outputs": [],
   "source": []
  }
 ],
 "metadata": {
  "colab": {
   "authorship_tag": "ABX9TyP9DlTIMMqGTP4QFkkC+ywl",
   "collapsed_sections": [
    "jmXT83gNKtRV",
    "b_RFlqc4YjsW",
    "F4i9iD7rwzvd",
    "ZKPGq23zOqLh",
    "V2zGgMWHLyCo",
    "kn7yZ2DH0yXb",
    "ZmepEkMuvqhz",
    "1vRklPwS7jxp",
    "IBxqRZqbIJWe",
    "rEaDf07-pStF"
   ],
   "name": "LSTM_multivariate.ipynb",
   "provenance": []
  },
  "kernelspec": {
   "display_name": "Python 3 (ipykernel)",
   "language": "python",
   "name": "python3"
  },
  "language_info": {
   "codemirror_mode": {
    "name": "ipython",
    "version": 3
   },
   "file_extension": ".py",
   "mimetype": "text/x-python",
   "name": "python",
   "nbconvert_exporter": "python",
   "pygments_lexer": "ipython3",
   "version": "3.9.7"
  }
 },
 "nbformat": 4,
 "nbformat_minor": 1
}
